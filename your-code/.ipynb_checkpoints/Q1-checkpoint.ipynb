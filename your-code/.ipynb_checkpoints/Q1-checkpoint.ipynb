{
 "cells": [
  {
   "cell_type": "markdown",
   "metadata": {},
   "source": [
    "In the cell below, create a Python function that wraps your previous solution for the Bag of Words lab.\n",
    "\n",
    "Requirements:\n",
    "\n",
    "1. Your function should accept the following parameters:\n",
    "    * `docs` [REQUIRED] - array of document paths.\n",
    "    * `stop_words` [OPTIONAL] - array of stop words. The default value is an empty array.\n",
    "\n",
    "1. Your function should return a Python object that contains the following:\n",
    "    * `bag_of_words` - array of strings of normalized unique words in the corpus.\n",
    "    * `term_freq` - array of the term-frequency vectors."
   ]
  },
  {
   "cell_type": "markdown",
   "metadata": {},
   "source": [
    "Test your function without stop words. You should see the output like below:\n",
    "\n",
    "```{'bag_of_words': ['ironhack', 'is', 'cool', 'i', 'love', 'am', 'a', 'student', 'at'], 'term_freq': [[1, 1, 1, 0, 0, 0, 0, 0, 0], [1, 0, 0, 1, 1, 0, 0, 0, 0], [1, 0, 0, 1, 0, 1, 1, 1, 1]]}```"
   ]
  },
  {
   "cell_type": "code",
   "execution_count": 22,
   "metadata": {},
   "outputs": [],
   "source": [
    "# Import required libraries\n",
    "import os\n",
    "import re\n",
    "\n",
    "docs2 = ['./doc1.txt', './doc2.txt', './doc3.txt']\n",
    "\n",
    "# Define function\n",
    "def get_bow_from_docs(docs, stop_words=[]):\n",
    "    stop_words = []\n",
    "    corpus = [open('../your-code1/'+ x).read()for x in docs]\n",
    "    bag_of_words = []\n",
    "    term_freq = []\n",
    "\n",
    "    for i in range(len(corpus)):\n",
    "        corpus[i] = corpus[i].lower()\n",
    "        corpus[i] = re.sub(r'[.]', '',corpus[i])\n",
    "\n",
    "    #print(corpus)\n",
    "    \n",
    "    corpus2 = ' '.join(corpus).split()\n",
    "\n",
    "    for word in corpus2:\n",
    "        if word not in bag_of_words and word not in stop_words:\n",
    "            bag_of_words.append(word)\n",
    "\n",
    "    term_freq = []\n",
    "\n",
    "    fragment = []\n",
    "    for sentence in corpus:\n",
    "        fragment.append(sentence.split())\n",
    "\n",
    "    for i in range(len(fragment)):\n",
    "        occurences = []\n",
    "        for word in bag_of_words:\n",
    "            count = fragment[i].count(word)\n",
    "            occurences.append(count)\n",
    "        term_freq.append(occurences)\n",
    "        \n",
    "    \n",
    "\n",
    "\n",
    "    \n",
    "    # In the function, first define the variables you will use such as `corpus`, `bag_of_words`, and `term_freq`.\n",
    "    \n",
    "\n",
    "    \n",
    "    \"\"\"\n",
    "    Loop `docs` and read the content of each doc into a string in `corpus`.\n",
    "    Remember to convert the doc content to lowercases and remove punctuation.\n",
    "    \"\"\"\n",
    "\n",
    "    \n",
    "    \n",
    "    \"\"\"\n",
    "    Loop `corpus`. Append the terms in each doc into the `bag_of_words` array. The terms in `bag_of_words` \n",
    "    should be unique which means before adding each term you need to check if it's already added to the array.\n",
    "    In addition, check if each term is in the `stop_words` array. Only append the term to `bag_of_words`\n",
    "    if it is not a stop word.\n",
    "    \"\"\"\n",
    "\n",
    "    \n",
    "    \n",
    "    \n",
    "    \"\"\"\n",
    "    Loop `corpus` again. For each doc string, count the number of occurrences of each term in `bag_of_words`. \n",
    "    Create an array for each doc's term frequency and append it to `term_freq`.\n",
    "    \"\"\"\n",
    "\n",
    "    \n",
    "    \n",
    "    # Now return your output as an object\n",
    "    return {\n",
    "        \"bag_of_words\": bag_of_words,\n",
    "        \"term_freq\": term_freq\n",
    "    }\n",
    "    "
   ]
  },
  {
   "cell_type": "code",
   "execution_count": 23,
   "metadata": {},
   "outputs": [
    {
     "data": {
      "text/plain": [
       "{'bag_of_words': ['ironhack',\n",
       "  'is',\n",
       "  'cool',\n",
       "  'i',\n",
       "  'love',\n",
       "  'am',\n",
       "  'a',\n",
       "  'student',\n",
       "  'at'],\n",
       " 'term_freq': [[1, 1, 1, 0, 0, 0, 0, 0, 0],\n",
       "  [1, 0, 0, 1, 1, 0, 0, 0, 0],\n",
       "  [1, 0, 0, 1, 0, 1, 1, 1, 1]]}"
      ]
     },
     "execution_count": 23,
     "metadata": {},
     "output_type": "execute_result"
    }
   ],
   "source": [
    "get_bow_from_docs(docs2)\n"
   ]
  },
  {
   "cell_type": "code",
   "execution_count": 12,
   "metadata": {},
   "outputs": [
    {
     "name": "stdout",
     "output_type": "stream",
     "text": [
      "['ironhack is cool', 'i love ironhack', 'i am a student at ironhack']\n"
     ]
    }
   ],
   "source": [
    "# In the function, first define the variables you will use such as `corpus`, `bag_of_words`, and `term_freq`.\n",
    "import os\n",
    "import re\n",
    "docs = ['./doc1.txt', './doc2.txt', './doc3.txt']\n",
    "stop_words = []\n",
    "corpus = [open('../your-code1/'+ x).read()for x in docs]\n",
    "bag_of_words = []\n",
    "term_freq = []\n",
    "\n",
    "for i in range(len(corpus)):\n",
    "    corpus[i] = corpus[i].lower()\n",
    "    corpus[i] = re.sub(r'[.]', '',corpus[i])\n",
    "\n",
    "print(corpus)\n"
   ]
  },
  {
   "cell_type": "code",
   "execution_count": 28,
   "metadata": {},
   "outputs": [
    {
     "name": "stdout",
     "output_type": "stream",
     "text": [
      "{'bag_of_words': ['ironhack', 'is', 'cool', 'i', 'love', 'am', 'a', 'student', 'at'], 'term_freq': [[1, 1, 1, 0, 0, 0, 0, 0, 0], [1, 0, 0, 1, 1, 0, 0, 0, 0], [1, 0, 0, 1, 0, 1, 1, 1, 1]]}\n"
     ]
    }
   ],
   "source": [
    "# Define doc paths array\n",
    "\n",
    "docs2 = ['./doc1.txt', './doc2.txt', './doc3.txt']\n",
    "\n",
    "# Obtain BoW from your function\n",
    "bow = get_bow_from_docs(docs2)\n",
    "\n",
    "# Print BoW\n",
    "print(bow)"
   ]
  },
  {
   "cell_type": "markdown",
   "metadata": {},
   "source": [
    "If your attempt above is successful, nice work done!\n",
    "\n",
    "Now test your function again with the stop words. In the previous lab we defined the stop words in a large array. In this lab, we'll import the stop words from Scikit-Learn."
   ]
  },
  {
   "cell_type": "code",
   "execution_count": 1,
   "metadata": {},
   "outputs": [
    {
     "name": "stdout",
     "output_type": "stream",
     "text": [
      "Collecting sklearn\n",
      "  Downloading https://files.pythonhosted.org/packages/1e/7a/dbb3be0ce9bd5c8b7e3d87328e79063f8b263b2b1bfa4774cb1147bfcd3f/sklearn-0.0.tar.gz\n",
      "Collecting scikit-learn (from sklearn)\n",
      "\u001b[?25l  Downloading https://files.pythonhosted.org/packages/aa/7d/6c71c35c201f6d5cec318c7ed7841317adbf291513742865ed8904ae4ea9/scikit_learn-0.21.2-cp37-cp37m-macosx_10_6_intel.macosx_10_9_intel.macosx_10_9_x86_64.macosx_10_10_intel.macosx_10_10_x86_64.whl (10.5MB)\n",
      "\u001b[K    100% |████████████████████████████████| 10.5MB 4.4MB/s ta 0:00:011\n",
      "\u001b[?25hCollecting scipy>=0.17.0 (from scikit-learn->sklearn)\n",
      "\u001b[?25l  Downloading https://files.pythonhosted.org/packages/04/66/ec5f1283d6a290a9153881a896837487338c44639c1305cc59e1c7b69cc9/scipy-1.3.0-cp37-cp37m-macosx_10_6_intel.macosx_10_9_intel.macosx_10_9_x86_64.macosx_10_10_intel.macosx_10_10_x86_64.whl (27.7MB)\n",
      "\u001b[K    100% |████████████████████████████████| 27.7MB 977kB/s ta 0:00:011\n",
      "\u001b[?25hCollecting joblib>=0.11 (from scikit-learn->sklearn)\n",
      "\u001b[?25l  Downloading https://files.pythonhosted.org/packages/cd/c1/50a758e8247561e58cb87305b1e90b171b8c767b15b12a1734001f41d356/joblib-0.13.2-py2.py3-none-any.whl (278kB)\n",
      "\u001b[K    100% |████████████████████████████████| 286kB 2.2MB/s ta 0:00:01\n",
      "\u001b[?25hRequirement already satisfied: numpy>=1.11.0 in /usr/local/lib/python3.7/site-packages (from scikit-learn->sklearn) (1.16.4)\n",
      "Building wheels for collected packages: sklearn\n",
      "  Building wheel for sklearn (setup.py) ... \u001b[?25ldone\n",
      "\u001b[?25h  Stored in directory: /Users/patriciacollado/Library/Caches/pip/wheels/76/03/bb/589d421d27431bcd2c6da284d5f2286c8e3b2ea3cf1594c074\n",
      "Successfully built sklearn\n",
      "Installing collected packages: scipy, joblib, scikit-learn, sklearn\n",
      "Successfully installed joblib-0.13.2 scikit-learn-0.21.2 scipy-1.3.0 sklearn-0.0\n"
     ]
    }
   ],
   "source": [
    "import sys\n",
    "!{sys.executable} -m pip install sklearn"
   ]
  },
  {
   "cell_type": "code",
   "execution_count": 30,
   "metadata": {},
   "outputs": [
    {
     "name": "stdout",
     "output_type": "stream",
     "text": [
      "frozenset({'my', 'never', 'most', 'enough', 'indeed', 'keep', 'herein', 'before', 'nevertheless', 'such', 'de', 'whereby', 'therefore', 'above', 'part', 'mine', 'but', 'anyhow', 'noone', 'fire', 'her', 'of', 'each', 'bill', 'still', 'me', 'we', 'even', 'while', 'cant', 'whole', 'three', 'seeming', 'forty', 'yet', 'into', 'thereafter', 'to', 'towards', 'amoungst', 'been', 'by', 'describe', 'thence', 'beforehand', 'that', 'i', 'some', 'all', 'would', 'couldnt', 'besides', 'front', 'him', 'mill', 'well', 'already', 'the', 'few', 'he', 'beyond', 'anywhere', 'another', 'toward', 'two', 'thus', 'bottom', 'always', 'see', 'neither', 'not', 'below', 'about', 'inc', 'thin', 'nor', 'was', 'in', 'she', 'any', 'back', 'will', 'myself', 'eight', 'whence', 'everything', 'four', 'either', 'after', 'together', 'somehow', 'many', 'being', 'put', 'your', 'there', 'due', 'something', 'which', 'behind', 'though', 'you', 'whither', 'ourselves', 'amount', 'show', 'else', 'almost', 'per', 'wherein', 'more', 'seem', 're', 'may', 'please', 'beside', 'anything', 'five', 'can', 'between', 'found', 'am', 'twelve', 'sincere', 'across', 'someone', 'every', 'cry', 'give', 'herself', 'how', 'whether', 'could', 'now', 'around', 'out', 'eg', 'empty', 'co', 'at', 'made', 'hereupon', 'several', 'against', 'formerly', 'done', 'off', 'onto', 'why', 'should', 'therein', 'become', 'amongst', 'full', 'if', 'own', 'get', 'no', 'here', 'first', 'might', 'whose', 'until', 'six', 'namely', 'its', 'call', 'otherwise', 'go', 'thru', 'wherever', 'least', 'within', 'afterwards', 'up', 'their', 'a', 'again', 'hasnt', 'since', 'are', 'thereby', 'both', 'nothing', 'sixty', 'un', 'down', 'others', 'next', 'whereupon', 'also', 'further', 'when', 'they', 'itself', 'latter', 'very', 'nine', 'nowhere', 'have', 'had', 'seemed', 'nobody', 'an', 'less', 'however', 'last', 'fifty', 'perhaps', 'whereas', 'alone', 'whenever', 'rather', 'via', 'then', 'ltd', 'along', 'himself', 'everywhere', 'those', 'everyone', 'fifteen', 'what', 'fill', 'ever', 'sometime', 'third', 'anyone', 'one', 'move', 'take', 'us', 'hers', 'top', 'yourselves', 'is', 'system', 'ours', 'must', 'moreover', 'find', 'only', 'serious', 'from', 'except', 'with', 'this', 'hereby', 'interest', 'etc', 'without', 'often', 'whoever', 'throughout', 'than', 'so', 'none', 'whereafter', 'twenty', 'meanwhile', 'name', 'becoming', 'under', 'who', 'although', 'con', 'detail', 'it', 'anyway', 'latterly', 'hence', 'other', 'seems', 'these', 'yours', 'becomes', 'hereafter', 'side', 'sometimes', 'ten', 'same', 'do', 'elsewhere', 'be', 'hundred', 'among', 'for', 'much', 'were', 'where', 'or', 'whom', 'somewhere', 'on', 'themselves', 'ie', 'whatever', 'and', 'mostly', 'them', 'through', 'former', 'too', 'has', 'thereupon', 'his', 'upon', 'cannot', 'once', 'during', 'yourself', 'because', 'our', 'eleven', 'became', 'thick', 'as', 'over'})\n"
     ]
    }
   ],
   "source": [
    "from sklearn.feature_extraction import stop_words\n",
    "print(stop_words.ENGLISH_STOP_WORDS)"
   ]
  },
  {
   "cell_type": "markdown",
   "metadata": {},
   "source": [
    "You should have seen a large list of words that looks like:\n",
    "\n",
    "```frozenset({'across', 'mine', 'cannot', ...})```\n",
    "\n",
    "`frozenset` is a type of Python object that is immutable. In this lab you can use it just like an array without conversion."
   ]
  },
  {
   "cell_type": "markdown",
   "metadata": {},
   "source": [
    "Next, test your function with supplying `stop_words.ENGLISH_STOP_WORDS` as the second parameter."
   ]
  },
  {
   "cell_type": "code",
   "execution_count": 31,
   "metadata": {},
   "outputs": [
    {
     "name": "stdout",
     "output_type": "stream",
     "text": [
      "{'bag_of_words': ['ironhack', 'is', 'cool', 'i', 'love', 'am', 'a', 'student', 'at'], 'term_freq': [[1, 1, 1, 0, 0, 0, 0, 0, 0], [1, 0, 0, 1, 1, 0, 0, 0, 0], [1, 0, 0, 1, 0, 1, 1, 1, 1]]}\n"
     ]
    }
   ],
   "source": [
    "bow = get_bow_from_docs(docs2, stop_words.ENGLISH_STOP_WORDS)\n",
    "\n",
    "print(bow)"
   ]
  },
  {
   "cell_type": "markdown",
   "metadata": {},
   "source": [
    "You should have seen:\n",
    "\n",
    "```{'bag_of_words': ['ironhack', 'cool', 'love', 'student'], 'term_freq': [[1, 1, 0, 0], [1, 0, 1, 0], [1, 0, 0, 1]]}```"
   ]
  }
 ],
 "metadata": {
  "kernelspec": {
   "display_name": "Python 3",
   "language": "python",
   "name": "python3"
  },
  "language_info": {
   "codemirror_mode": {
    "name": "ipython",
    "version": 3
   },
   "file_extension": ".py",
   "mimetype": "text/x-python",
   "name": "python",
   "nbconvert_exporter": "python",
   "pygments_lexer": "ipython3",
   "version": "3.7.3"
  }
 },
 "nbformat": 4,
 "nbformat_minor": 2
}
